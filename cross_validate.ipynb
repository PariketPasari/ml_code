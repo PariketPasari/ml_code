{
 "cells": [
  {
   "cell_type": "code",
   "execution_count": 1,
   "id": "f7d9b321",
   "metadata": {},
   "outputs": [],
   "source": [
    "import pandas as pd\n",
    "import numpy as np\n",
    "\n",
    "# importing ridge regression as our model as it contains basic(1) hyperparameter to tune (for learning)\n",
    "from sklearn.linear_model import Ridge\n",
    "\n",
    "# basic libraires data transformation for modelling\n",
    "from sklearn.model_selection import train_test_split\n",
    "from sklearn.preprocessing import StandardScaler\n",
    "sc = StandardScaler()\n",
    "\n",
    "# model metrics\n",
    "from sklearn.metrics import mean_absolute_error, mean_squared_error,r2_score\n",
    "\n",
    "# cross_val_score to perform cross validation using single scoring metrics\n",
    "from sklearn.model_selection import cross_val_score\n",
    "\n",
    "# cross_validate to perform corss validation using multiple scoring metrics \n",
    "from sklearn.model_selection import cross_validate\n",
    "\n",
    "# used to perform grid search for a model to find out best combination of parameters \n",
    "from sklearn.model_selection import GridSearchCV\n",
    "\n",
    "# elastic net model used to practice grid search as it contains 2 parameters \n",
    "from sklearn.linear_model import ElasticNet"
   ]
  },
  {
   "cell_type": "code",
   "execution_count": 2,
   "id": "b81fc1e5",
   "metadata": {},
   "outputs": [],
   "source": [
    "df = pd.read_csv(\"../DATA/Advertising.csv\")"
   ]
  },
  {
   "cell_type": "code",
   "execution_count": 3,
   "id": "884b63b2",
   "metadata": {},
   "outputs": [
    {
     "data": {
      "text/html": [
       "<div>\n",
       "<style scoped>\n",
       "    .dataframe tbody tr th:only-of-type {\n",
       "        vertical-align: middle;\n",
       "    }\n",
       "\n",
       "    .dataframe tbody tr th {\n",
       "        vertical-align: top;\n",
       "    }\n",
       "\n",
       "    .dataframe thead th {\n",
       "        text-align: right;\n",
       "    }\n",
       "</style>\n",
       "<table border=\"1\" class=\"dataframe\">\n",
       "  <thead>\n",
       "    <tr style=\"text-align: right;\">\n",
       "      <th></th>\n",
       "      <th>TV</th>\n",
       "      <th>radio</th>\n",
       "      <th>newspaper</th>\n",
       "      <th>sales</th>\n",
       "    </tr>\n",
       "  </thead>\n",
       "  <tbody>\n",
       "    <tr>\n",
       "      <th>0</th>\n",
       "      <td>230.1</td>\n",
       "      <td>37.8</td>\n",
       "      <td>69.2</td>\n",
       "      <td>22.1</td>\n",
       "    </tr>\n",
       "    <tr>\n",
       "      <th>1</th>\n",
       "      <td>44.5</td>\n",
       "      <td>39.3</td>\n",
       "      <td>45.1</td>\n",
       "      <td>10.4</td>\n",
       "    </tr>\n",
       "    <tr>\n",
       "      <th>2</th>\n",
       "      <td>17.2</td>\n",
       "      <td>45.9</td>\n",
       "      <td>69.3</td>\n",
       "      <td>9.3</td>\n",
       "    </tr>\n",
       "    <tr>\n",
       "      <th>3</th>\n",
       "      <td>151.5</td>\n",
       "      <td>41.3</td>\n",
       "      <td>58.5</td>\n",
       "      <td>18.5</td>\n",
       "    </tr>\n",
       "    <tr>\n",
       "      <th>4</th>\n",
       "      <td>180.8</td>\n",
       "      <td>10.8</td>\n",
       "      <td>58.4</td>\n",
       "      <td>12.9</td>\n",
       "    </tr>\n",
       "  </tbody>\n",
       "</table>\n",
       "</div>"
      ],
      "text/plain": [
       "      TV  radio  newspaper  sales\n",
       "0  230.1   37.8       69.2   22.1\n",
       "1   44.5   39.3       45.1   10.4\n",
       "2   17.2   45.9       69.3    9.3\n",
       "3  151.5   41.3       58.5   18.5\n",
       "4  180.8   10.8       58.4   12.9"
      ]
     },
     "execution_count": 3,
     "metadata": {},
     "output_type": "execute_result"
    }
   ],
   "source": [
    "df.head()"
   ]
  },
  {
   "cell_type": "markdown",
   "id": "91fecdd6",
   "metadata": {},
   "source": [
    "## cross_val_score\n",
    "- cross_val_score (estimator, x_train, y_train, scoring = 'desired scoring method', cv = number of k fold cross validation to be performed)\n",
    "- the cross_val_score takes the model(estimator), x_train, y_train, scoring method and cv count and perfroms cross validation of data, fits it into the model and checks the model perfromance based on passed score"
   ]
  },
  {
   "cell_type": "code",
   "execution_count": 4,
   "id": "e20d52ca",
   "metadata": {},
   "outputs": [],
   "source": [
    "## CREATE X and y\n",
    "x = df.drop('sales',axis=1)\n",
    "y = df['sales']\n",
    "\n",
    "# TRAIN TEST SPLIT\n",
    "from sklearn.model_selection import train_test_split\n",
    "x_train, x_test, y_train, y_test = train_test_split(x, y, test_size=0.3, random_state=101)\n",
    "\n",
    "# SCALE DATA\n",
    "from sklearn.preprocessing import StandardScaler\n",
    "scaler = StandardScaler()\n",
    "scaler.fit(x_train)\n",
    "scaler.transform(x_train)\n",
    "x_test = scaler.transform(x_test)"
   ]
  },
  {
   "cell_type": "code",
   "execution_count": 5,
   "id": "88678d50",
   "metadata": {},
   "outputs": [],
   "source": [
    "model_3 = Ridge(alpha = 100)"
   ]
  },
  {
   "cell_type": "code",
   "execution_count": 6,
   "id": "ee032af1",
   "metadata": {},
   "outputs": [],
   "source": [
    "score = cross_val_score(model_3,x_train,y_train, scoring='neg_mean_squared_error',cv = 5)"
   ]
  },
  {
   "cell_type": "code",
   "execution_count": 7,
   "id": "7d5dcb3c",
   "metadata": {},
   "outputs": [
    {
     "data": {
      "text/plain": [
       "array([-3.1574411 , -1.61190525, -5.37588672, -2.23984591, -4.3264032 ])"
      ]
     },
     "execution_count": 7,
     "metadata": {},
     "output_type": "execute_result"
    }
   ],
   "source": [
    "# to view the  the negative mean_squared error value for evey fold\n",
    "score"
   ]
  },
  {
   "cell_type": "code",
   "execution_count": 8,
   "id": "e04700d5",
   "metadata": {},
   "outputs": [
    {
     "data": {
      "text/plain": [
       "3.342296435841239"
      ]
     },
     "execution_count": 8,
     "metadata": {},
     "output_type": "execute_result"
    }
   ],
   "source": [
    "# as the lower mean square error means better performance \n",
    "abs(score.mean())"
   ]
  },
  {
   "cell_type": "code",
   "execution_count": 9,
   "id": "c6ee645d",
   "metadata": {},
   "outputs": [],
   "source": [
    "# retune the alpha value and rerun the model\n",
    "model_4 = Ridge(alpha=0.001)"
   ]
  },
  {
   "cell_type": "code",
   "execution_count": 10,
   "id": "77ac177f",
   "metadata": {},
   "outputs": [
    {
     "data": {
      "text/plain": [
       "array([-3.1393286 , -1.62246299, -5.37383749, -2.24224624, -4.34167069])"
      ]
     },
     "execution_count": 10,
     "metadata": {},
     "output_type": "execute_result"
    }
   ],
   "source": [
    "score_2 = cross_val_score(model_4,x_train,y_train, scoring='neg_mean_squared_error',cv = 5)\n",
    "score_2"
   ]
  },
  {
   "cell_type": "code",
   "execution_count": 11,
   "id": "f2eb9704",
   "metadata": {},
   "outputs": [
    {
     "data": {
      "text/plain": [
       "3.343909203511349"
      ]
     },
     "execution_count": 11,
     "metadata": {},
     "output_type": "execute_result"
    }
   ],
   "source": [
    "abs(score_2.mean())"
   ]
  },
  {
   "cell_type": "markdown",
   "id": "8339bde0",
   "metadata": {},
   "source": [
    "- MODEL SLIGHTY PERFORMS BETTER\n",
    "\n",
    "- THIS IS HOW WE PERFORM CROSS VALIDATION DIRECTLY USING A MODEL"
   ]
  },
  {
   "cell_type": "markdown",
   "id": "ce6d2c9c",
   "metadata": {},
   "source": [
    "## cross_validate\n",
    "- The cross_validate function differs from cross_val_score in two ways:\n",
    "- It allows specifying multiple scoring metrics for evaluation.\n",
    "- It returns a dict containing fit-times, score-times (and optionally training scores as well as fitted estimators) in addition to the test score\n",
    "\n",
    "##### cross_validate (estimator,x_train,y_train, scoring = ['scoring1 ','scoring 2',....], cv = 5)\n",
    "- IT TAKES ESTIMATOR, X & Y TRAIN AND A LIST OF MULTIPLE SCORING METRICS AND NUMBER OF FOLDS IN VALIDATION PROCESS\n",
    "- it trains the model on specified(cv) numner of validation set and measures the performace based on passed scoring metrics"
   ]
  },
  {
   "cell_type": "code",
   "execution_count": 12,
   "id": "c6b82260",
   "metadata": {},
   "outputs": [],
   "source": [
    "model_5 = Ridge(alpha = 100)"
   ]
  },
  {
   "cell_type": "code",
   "execution_count": 13,
   "id": "e8a23dc2",
   "metadata": {},
   "outputs": [],
   "source": [
    "scores = cross_validate(model_4,x_train,y_train,\n",
    "                         scoring=['neg_mean_absolute_error','neg_mean_squared_error','max_error'],cv=5)"
   ]
  },
  {
   "cell_type": "code",
   "execution_count": 14,
   "id": "dd4f7ffe",
   "metadata": {},
   "outputs": [],
   "source": [
    "scores = pd.DataFrame(scores)"
   ]
  },
  {
   "cell_type": "code",
   "execution_count": 15,
   "id": "6a658596",
   "metadata": {},
   "outputs": [
    {
     "data": {
      "text/html": [
       "<div>\n",
       "<style scoped>\n",
       "    .dataframe tbody tr th:only-of-type {\n",
       "        vertical-align: middle;\n",
       "    }\n",
       "\n",
       "    .dataframe tbody tr th {\n",
       "        vertical-align: top;\n",
       "    }\n",
       "\n",
       "    .dataframe thead th {\n",
       "        text-align: right;\n",
       "    }\n",
       "</style>\n",
       "<table border=\"1\" class=\"dataframe\">\n",
       "  <thead>\n",
       "    <tr style=\"text-align: right;\">\n",
       "      <th></th>\n",
       "      <th>fit_time</th>\n",
       "      <th>score_time</th>\n",
       "      <th>test_neg_mean_absolute_error</th>\n",
       "      <th>test_neg_mean_squared_error</th>\n",
       "      <th>test_max_error</th>\n",
       "    </tr>\n",
       "  </thead>\n",
       "  <tbody>\n",
       "    <tr>\n",
       "      <th>0</th>\n",
       "      <td>0.004007</td>\n",
       "      <td>0.002999</td>\n",
       "      <td>-1.545316</td>\n",
       "      <td>-3.139329</td>\n",
       "      <td>-3.034514</td>\n",
       "    </tr>\n",
       "    <tr>\n",
       "      <th>1</th>\n",
       "      <td>0.002514</td>\n",
       "      <td>0.002007</td>\n",
       "      <td>-1.030716</td>\n",
       "      <td>-1.622463</td>\n",
       "      <td>-2.910504</td>\n",
       "    </tr>\n",
       "    <tr>\n",
       "      <th>2</th>\n",
       "      <td>0.002000</td>\n",
       "      <td>0.002000</td>\n",
       "      <td>-1.387854</td>\n",
       "      <td>-5.373837</td>\n",
       "      <td>-9.343730</td>\n",
       "    </tr>\n",
       "    <tr>\n",
       "      <th>3</th>\n",
       "      <td>0.003534</td>\n",
       "      <td>0.005022</td>\n",
       "      <td>-1.169165</td>\n",
       "      <td>-2.242246</td>\n",
       "      <td>-4.011451</td>\n",
       "    </tr>\n",
       "    <tr>\n",
       "      <th>4</th>\n",
       "      <td>0.000995</td>\n",
       "      <td>0.002511</td>\n",
       "      <td>-1.467605</td>\n",
       "      <td>-4.341671</td>\n",
       "      <td>-6.453912</td>\n",
       "    </tr>\n",
       "  </tbody>\n",
       "</table>\n",
       "</div>"
      ],
      "text/plain": [
       "   fit_time  score_time  test_neg_mean_absolute_error  \\\n",
       "0  0.004007    0.002999                     -1.545316   \n",
       "1  0.002514    0.002007                     -1.030716   \n",
       "2  0.002000    0.002000                     -1.387854   \n",
       "3  0.003534    0.005022                     -1.169165   \n",
       "4  0.000995    0.002511                     -1.467605   \n",
       "\n",
       "   test_neg_mean_squared_error  test_max_error  \n",
       "0                    -3.139329       -3.034514  \n",
       "1                    -1.622463       -2.910504  \n",
       "2                    -5.373837       -9.343730  \n",
       "3                    -2.242246       -4.011451  \n",
       "4                    -4.341671       -6.453912  "
      ]
     },
     "execution_count": 15,
     "metadata": {},
     "output_type": "execute_result"
    }
   ],
   "source": [
    "scores"
   ]
  },
  {
   "cell_type": "code",
   "execution_count": 16,
   "id": "1b49e10b",
   "metadata": {},
   "outputs": [
    {
     "data": {
      "text/plain": [
       "fit_time                        0.002610\n",
       "score_time                      0.002908\n",
       "test_neg_mean_absolute_error   -1.320131\n",
       "test_neg_mean_squared_error    -3.343909\n",
       "test_max_error                 -5.150822\n",
       "dtype: float64"
      ]
     },
     "execution_count": 16,
     "metadata": {},
     "output_type": "execute_result"
    }
   ],
   "source": [
    "scores.mean()"
   ]
  },
  {
   "cell_type": "code",
   "execution_count": 17,
   "id": "975df76f",
   "metadata": {},
   "outputs": [],
   "source": [
    "model_5 = Ridge(alpha = 0.1)\n",
    "scores_2 = cross_validate(model_5,x_train,y_train,\n",
    "scoring=['neg_mean_absolute_error','neg_mean_squared_error','max_error'],cv=5)\n",
    "scores_2 = pd.DataFrame(scores_2)"
   ]
  },
  {
   "cell_type": "code",
   "execution_count": 18,
   "id": "29f0e0df",
   "metadata": {},
   "outputs": [
    {
     "data": {
      "text/plain": [
       "fit_time                        0.002420\n",
       "score_time                      0.002505\n",
       "test_neg_mean_absolute_error   -1.320132\n",
       "test_neg_mean_squared_error    -3.343907\n",
       "test_max_error                 -5.150809\n",
       "dtype: float64"
      ]
     },
     "execution_count": 18,
     "metadata": {},
     "output_type": "execute_result"
    }
   ],
   "source": [
    "scores_2.mean()"
   ]
  },
  {
   "cell_type": "code",
   "execution_count": null,
   "id": "3d356272",
   "metadata": {},
   "outputs": [],
   "source": []
  }
 ],
 "metadata": {
  "kernelspec": {
   "display_name": "Python 3 (ipykernel)",
   "language": "python",
   "name": "python3"
  },
  "language_info": {
   "codemirror_mode": {
    "name": "ipython",
    "version": 3
   },
   "file_extension": ".py",
   "mimetype": "text/x-python",
   "name": "python",
   "nbconvert_exporter": "python",
   "pygments_lexer": "ipython3",
   "version": "3.10.9"
  }
 },
 "nbformat": 4,
 "nbformat_minor": 5
}
